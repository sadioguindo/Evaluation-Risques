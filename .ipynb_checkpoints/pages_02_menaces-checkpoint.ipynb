{
 "cells": [
  {
   "cell_type": "code",
   "execution_count": null,
   "metadata": {},
   "outputs": [],
   "source": [
    "import streamlit as st\n",
    "\n",
    "# Configuration de la page\n",
    "st.set_page_config(page_title=\"Étape 2 - Menaces\", page_icon=\"images.png\")\n",
    "\n",
    "st.title(\"Étape 2 : Quelles menaces concernent vos actifs ?\")\n",
    "\n",
    "# Vérifier si des actifs ont été sélectionnés à l'étape précédente\n",
    "if 'assets' not in st.session_state:\n",
    "    st.warning(\"Veuillez retourner à l'étape précédente pour sélectionner des actifs.\")\n",
    "    st.stop()\n",
    "\n",
    "# Récupérer les actifs sélectionnés\n",
    "selected_assets = st.session_state['assets']\n",
    "\n",
    "# Dictionnaire simplifié des menaces par actif (exemple)\n",
    "menaces_possibles = {\n",
    "    \"Ordinateurs des employés\": [\"Malware\", \"Phishing\", \"Perte ou vol\"],\n",
    "    \"Systèmes de facturation\": [\"Intrusion\", \"Erreur humaine\", \"Ransomware\"],\n",
    "    \"Messagerie professionnelle\": [\"Phishing\", \"Spam\", \"Accès non autorisé\"],\n",
    "    \"Site internet de l’entreprise\": [\"Défaillance\", \"Attaque DDoS\", \"Injection SQL\"],\n",
    "    \"Données clients\": [\"Fuite de données\", \"Accès non autorisé\", \"Altération des données\"],\n",
    "    \"Données comptables\": [\"Fuite d'information\", \"Modification frauduleuse\", \"Ransomware\"],\n",
    "    \"Accès à distance aux fichiers\": [\"Intrusion\", \"Accès non sécurisé\", \"Vol de données\"],\n",
    "    \"Logiciels métier spécifiques\": [\"Vulnérabilité logicielle\", \"Mise à jour non appliquée\"]\n",
    "}\n",
    "\n",
    "selected_threats = {}\n",
    "\n",
    "st.markdown(\"Pour chaque actif, sélectionnez les menaces qui vous semblent les plus pertinentes :\")\n",
    "\n",
    "for asset in selected_assets:\n",
    "    menaces = menaces_possibles.get(asset, [\"Menace non définie\"])\n",
    "    choix = st.multiselect(f\"Menaces pour : {asset}\", options=menaces)\n",
    "    selected_threats[asset] = choix\n",
    "\n",
    "# Sauvegarde dans session_state\n",
    "st.session_state['threats'] = selected_threats\n",
    "\n",
    "# Bouton pour passer à l'étape suivante\n",
    "st.markdown(\"[➡️ Aller à Étape suivante : Évaluer l’impact et la probabilité](pages_03_evaluation.py)\", unsafe_allow_html=True)\n"
   ]
  }
 ],
 "metadata": {
  "kernelspec": {
   "display_name": "Python 3",
   "language": "python",
   "name": "python3"
  },
  "language_info": {
   "codemirror_mode": {
    "name": "ipython",
    "version": 3
   },
   "file_extension": ".py",
   "mimetype": "text/x-python",
   "name": "python",
   "nbconvert_exporter": "python",
   "pygments_lexer": "ipython3",
   "version": "3.7.6"
  }
 },
 "nbformat": 4,
 "nbformat_minor": 4
}
