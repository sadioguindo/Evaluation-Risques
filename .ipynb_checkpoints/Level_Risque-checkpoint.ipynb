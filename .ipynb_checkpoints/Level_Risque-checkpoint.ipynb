{
 "cells": [
  {
   "cell_type": "code",
   "execution_count": null,
   "metadata": {},
   "outputs": [],
   "source": [
    "import streamlit as st\n",
    "\n",
    "# Configuration de la page (à mettre tout en haut)\n",
    "st.set_page_config(page_title=\"Évaluation Cybersécurité PME\", page_icon=\"images.png\")\n",
    "\n",
    "st.title(\"Auto-évaluation de votre cybersécurité\")\n",
    "st.subheader(\"Étape 1 : Quels sont les actifs importants pour votre entreprise ?\")\n",
    "\n",
    "st.markdown(\"Sélectionnez les éléments qui sont essentiels à votre activité :\")\n",
    "\n",
    "# Choix multiples\n",
    "assets = st.multiselect(\n",
    "    \"Actifs critiques\",\n",
    "    [\n",
    "        \"Ordinateurs des employés\",\n",
    "        \"Systèmes de facturation\",\n",
    "        \"Messagerie professionnelle\",\n",
    "        \"Site internet de l’entreprise\",\n",
    "        \"Données clients\",\n",
    "        \"Données comptables\",\n",
    "        \"Accès à distance aux fichiers\",\n",
    "        \"Logiciels métier spécifiques\"\n",
    "    ]\n",
    ")\n",
    "\n",
    "# Affichage si des actifs sont sélectionnés\n",
    "if assets:\n",
    "    st.success(\"Vous avez identifié les actifs suivants :\")\n",
    "    for asset in assets:\n",
    "        st.write(f\"- {asset}\")\n",
    "\n",
    "    # Lien vers la prochaine page\n",
    "    st.markdown(\"[➡️ Aller à l'Étape 2 : Menaces](pages_02_menaces.py)\", unsafe_allow_html=True)\n",
    "\n",
    "else:\n",
    "    st.info(\"Veuillez sélectionner au moins un actif pour continuer.\")\n"
   ]
  }
 ],
 "metadata": {
  "kernelspec": {
   "display_name": "Python 3",
   "language": "python",
   "name": "python3"
  },
  "language_info": {
   "codemirror_mode": {
    "name": "ipython",
    "version": 3
   },
   "file_extension": ".py",
   "mimetype": "text/x-python",
   "name": "python",
   "nbconvert_exporter": "python",
   "pygments_lexer": "ipython3",
   "version": "3.7.6"
  }
 },
 "nbformat": 4,
 "nbformat_minor": 4
}
