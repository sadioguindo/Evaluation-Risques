{
 "cells": [
  {
   "cell_type": "code",
   "execution_count": null,
   "metadata": {},
   "outputs": [],
   "source": [
    "import streamlit as st\n",
    "\n",
    "# Configuration de la page\n",
    "st.set_page_config(page_title=\"Étape 3 - Évaluation du risque\", page_icon=\"images.png\")\n",
    "\n",
    "st.title(\"Étape 3 : Évaluer l’impact et la probabilité des menaces\")\n",
    "\n",
    "# Vérifier que les données des étapes précédentes existent\n",
    "if 'assets' not in st.session_state or 'threats' not in st.session_state:\n",
    "    st.warning(\"Veuillez compléter les étapes précédentes.\")\n",
    "    st.stop()\n",
    "\n",
    "# Barèmes\n",
    "impact_levels = [\"Faible\", \"Moyen\", \"Élevé\"]\n",
    "probability_levels = [\"Rare\", \"Possible\", \"Fréquent\"]\n",
    "impact_scores = {\"Faible\": 1, \"Moyen\": 2, \"Élevé\": 3}\n",
    "probability_scores = {\"Rare\": 1, \"Possible\": 2, \"Fréquent\": 3}\n",
    "\n",
    "evaluated_threats = []\n",
    "\n",
    "st.markdown(\"Indiquez pour chaque menace son **impact** et sa **probabilité** :\")\n",
    "\n",
    "# Boucle sur les actifs et leurs menaces\n",
    "for asset, threats in st.session_state['threats'].items():\n",
    "    for threat in threats:\n",
    "        st.subheader(f\"{asset} - {threat}\")\n",
    "        col1, col2 = st.columns(2)\n",
    "        with col1:\n",
    "            impact = st.selectbox(f\"Impact de la menace {threat} sur {asset}\", impact_levels, key=f\"impact_{asset}_{threat}\")\n",
    "        with col2:\n",
    "            probability = st.selectbox(f\"Probabilité que la menace {threat} se produise\", probability_levels, key=f\"prob_{asset}_{threat}\")\n",
    "        \n",
    "        risk_score = impact_scores[impact] * probability_scores[probability]\n",
    "        \n",
    "        evaluated_threats.append({\n",
    "            \"Actif\": asset,\n",
    "            \"Menace\": threat,\n",
    "            \"Impact\": impact,\n",
    "            \"Probabilité\": probability,\n",
    "            \"Score de Risque\": risk_score\n",
    "        })\n",
    "\n",
    "# Enregistrer l'évaluation dans la session\n",
    "st.session_state['evaluations'] = evaluated_threats\n",
    "\n",
    "# Afficher un aperçu\n",
    "st.markdown(\"---\")\n",
    "st.markdown(\"### Aperçu des évaluations :\")\n",
    "st.dataframe(evaluated_threats)\n",
    "\n",
    "# Bouton pour aller à la synthèse\n",
    "st.markdown(\"[➡️ Aller à l'Étape suivante : Synthèse des Risques](pages_04_synthese.py)\", unsafe_allow_html=True)\n",
    "\n"
   ]
  }
 ],
 "metadata": {
  "kernelspec": {
   "display_name": "Python 3",
   "language": "python",
   "name": "python3"
  },
  "language_info": {
   "codemirror_mode": {
    "name": "ipython",
    "version": 3
   },
   "file_extension": ".py",
   "mimetype": "text/x-python",
   "name": "python",
   "nbconvert_exporter": "python",
   "pygments_lexer": "ipython3",
   "version": "3.7.6"
  }
 },
 "nbformat": 4,
 "nbformat_minor": 4
}
