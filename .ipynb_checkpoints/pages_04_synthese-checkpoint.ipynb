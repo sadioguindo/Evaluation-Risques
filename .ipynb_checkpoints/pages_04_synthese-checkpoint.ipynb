{
 "cells": [
  {
   "cell_type": "code",
   "execution_count": null,
   "metadata": {},
   "outputs": [],
   "source": [
    "import streamlit as st\n",
    "import pandas as pd\n",
    "import plotly.express as px\n",
    "\n",
    "st.set_page_config(page_title=\"Étape 4 - Synthèse\", page_icon=\"images.png\")\n",
    "\n",
    "st.title(\"Étape 4 : Synthèse des Risques et Recommandations\")\n",
    "\n",
    "# Vérification que les évaluations sont disponibles\n",
    "if 'evaluations' not in st.session_state:\n",
    "    st.warning(\"Veuillez d'abord compléter l'étape d’évaluation.\")\n",
    "    st.stop()\n",
    "\n",
    "evaluations = pd.DataFrame(st.session_state['evaluations'])\n",
    "\n",
    "# Affichage de la synthèse\n",
    "st.subheader(\"Résumé des risques évalués\")\n",
    "st.dataframe(evaluations)\n",
    "\n",
    "# Classement par niveau de risque\n",
    "top_risks = evaluations.sort_values(by=\"Score de Risque\", ascending=False)\n",
    "\n",
    "st.markdown(\"### Top 5 des risques les plus élevés :\")\n",
    "st.dataframe(top_risks.head(5))\n",
    "\n",
    "# Graphique interactif des scores de risque\n",
    "fig = px.bar(top_risks, x='Actif', y='Score de Risque', color='Menace', barmode='group',\n",
    "             title=\"Scores de Risque par Actif et Menace\")\n",
    "st.plotly_chart(fig)\n",
    "\n",
    "# Quelques recommandations basées sur le niveau de risque\n",
    "st.markdown(\"### Recommandations générales :\")\n",
    "for _, row in top_risks.head(3).iterrows():\n",
    "    st.markdown(f\"\"\"\n",
    "    - **{row['Actif']} - {row['Menace']}** : Risque élevé détecté (**Score : {row['Score de Risque']}**)\n",
    "      - **Action suggérée** : Mettre en œuvre des mesures de sécurité renforcées (pare-feu, sauvegardes, sensibilisation, etc.).\n",
    "    \"\"\")\n",
    "\n",
    "# Bouton de fin\n",
    "st.success(\"Analyse terminée ! Vous pouvez revenir en arrière pour modifier vos réponses si besoin.\")\n"
   ]
  }
 ],
 "metadata": {
  "kernelspec": {
   "display_name": "Python 3",
   "language": "python",
   "name": "python3"
  },
  "language_info": {
   "codemirror_mode": {
    "name": "ipython",
    "version": 3
   },
   "file_extension": ".py",
   "mimetype": "text/x-python",
   "name": "python",
   "nbconvert_exporter": "python",
   "pygments_lexer": "ipython3",
   "version": "3.7.6"
  }
 },
 "nbformat": 4,
 "nbformat_minor": 4
}
