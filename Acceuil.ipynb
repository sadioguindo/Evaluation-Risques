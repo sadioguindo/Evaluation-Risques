{
 "cells": [
  {
   "cell_type": "code",
   "execution_count": null,
   "metadata": {},
   "outputs": [],
   "source": [
    "import streamlit as st\n",
    "\n",
    "st.set_page_config(page_title=\"Accueil - Évaluation Cybersécurité PME\", page_icon=\"images.png\")\n",
    "\n",
    "# Titre principal en bleu et centré\n",
    "st.markdown(\n",
    "    \"<h1 style='text-align: center; color: #003366;'>Bienvenue dans l'outil d’évaluation de cybersécurité pour PME</h1>\",\n",
    "    unsafe_allow_html=True\n",
    ")\n",
    "\n",
    "# Sous-titre centré et en bleu\n",
    "st.markdown(\n",
    "    \"<h3 style='text-align: center; color:#003366;'>Basé sur la méthode CIS RAM</h3>\",\n",
    "    unsafe_allow_html=True\n",
    ")\n",
    "\n",
    "st.image(\"images.png\", use_column_width=True)\n",
    "\n",
    "# Corps du texte avec titres de section en bleu\n",
    "st.markdown(\"\"\"\n",
    "<h3 style=\"color:#003366\"> Objectif de l’outil :</h3>\n",
    "Cet outil interactif permet aux petites et moyennes entreprises d’évaluer leur niveau de cybersécurité <b>de manière simple et guidée</b>, sans avoir besoin de compétences techniques poussées.\n",
    "\n",
    "<h3 style=\"color:#003366\">Pourquoi cet outil ?</h3>\n",
    "<ul>\n",
    "  <li>Le CIS RAM permet de <b>prioriser les actions de sécurité</b> en tenant compte des impacts réels sur votre activité.</li>\n",
    "  <li>Ce guide se veut <b>pédagogique et accessible</b>.</li>\n",
    "</ul>\n",
    "<h3 style=\"color:#003366\">Déroulement </h3>\n",
    "<ol>\n",
    "  <li>Identification simplifiée de vos activités et ressources.</li>\n",
    "  <li>Scénarios de menaces courants dans le monde des PME.</li>\n",
    "  <li>Évaluation de l’impact et probabilité à travers des questions compréhensibles.</li>\n",
    "  <li>Synthèse des risques et recommandations claires.</li>\n",
    "</ol>\n",
    "\n",
    "<h3 style=\"color:#003366\"> Comment utiliser ?</h3>\n",
    "Utilisez le menu sur la gauche pour commencer. Il est conseillé de suivre les étapes dans l’ordre.\n",
    "\"\"\", unsafe_allow_html=True)"
   ]
  }
 ],
 "metadata": {
  "kernelspec": {
   "display_name": "Python 3",
   "language": "python",
   "name": "python3"
  },
  "language_info": {
   "codemirror_mode": {
    "name": "ipython",
    "version": 3
   },
   "file_extension": ".py",
   "mimetype": "text/x-python",
   "name": "python",
   "nbconvert_exporter": "python",
   "pygments_lexer": "ipython3",
   "version": "3.7.6"
  }
 },
 "nbformat": 4,
 "nbformat_minor": 4
}
