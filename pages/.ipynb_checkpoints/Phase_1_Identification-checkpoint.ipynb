{
 "cells": [
  {
   "cell_type": "code",
   "execution_count": null,
   "metadata": {},
   "outputs": [],
   "source": [
    "import streamlit as st\n",
    "\n",
    "# Configuration de la page\n",
    "st.set_page_config(page_title=\"Évaluation Cybersécurité PME\")\n",
    "\n",
    "# Titre principal en bleu et centré\n",
    "st.markdown(\n",
    "    \"<h1 style='text-align: center; color: #003366;'> Étape Auto-évaluation </h1>\",\n",
    "    unsafe_allow_html=True\n",
    ")\n",
    "\n",
    "\n",
    "# Sous-titre en bleu et centré\n",
    "st.markdown(\n",
    "    \"<h3 style='text-align: center; color: #003366;'> Quels sont les actifs importants pour votre entreprise ?</h3>\",\n",
    "    unsafe_allow_html=True\n",
    ")\n",
    "\n",
    "# Texte d'instruction centré et bleu\n",
    "st.markdown(\n",
    "    \"<p style='text-align: center; color: #003366;'> Sélectionnez les éléments qui sont essentiels à votre activité :</p>\",\n",
    "    unsafe_allow_html=True\n",
    ")\n",
    "\n",
    "# Choix multiples\n",
    "assets = st.multiselect(\n",
    "    \"Actifs critiques\",\n",
    "    [\n",
    "        \"Ordinateurs des employés\",\n",
    "        \"Systèmes de facturation\",\n",
    "        \"Messagerie professionnelle\",\n",
    "        \"Site internet de l’entreprise\",\n",
    "        \"Données clients\",\n",
    "        \"Données comptables\",\n",
    "        \"Accès à distance aux fichiers\",\n",
    "        \"Logiciels métier spécifiques\"\n",
    "    ]\n",
    ")\n",
    "\n",
    "# Affichage si des actifs sont sélectionnés\n",
    "if assets:\n",
    "    st.session_state['assets'] = assets  # ENREGISTRER DANS LA SESSION\n",
    "    st.success(\"Vous avez identifié les actifs suivants :\")\n",
    "    for asset in assets:\n",
    "        st.write(f\"- {asset}\")\n",
    "else:\n",
    "    st.info(\"Veuillez sélectionner au moins un actif pour continuer.\")\n"
   ]
  }
 ],
 "metadata": {
  "kernelspec": {
   "display_name": "Python 3",
   "language": "python",
   "name": "python3"
  },
  "language_info": {
   "codemirror_mode": {
    "name": "ipython",
    "version": 3
   },
   "file_extension": ".py",
   "mimetype": "text/x-python",
   "name": "python",
   "nbconvert_exporter": "python",
   "pygments_lexer": "ipython3",
   "version": "3.7.6"
  }
 },
 "nbformat": 4,
 "nbformat_minor": 4
}
